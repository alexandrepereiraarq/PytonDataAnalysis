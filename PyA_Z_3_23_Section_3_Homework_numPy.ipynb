{
  "nbformat": 4,
  "nbformat_minor": 0,
  "metadata": {
    "colab": {
      "name": "Copy of PyA-Z 3.23 Section 3 Homework numPy.ipynb",
      "version": "0.3.2",
      "provenance": [],
      "include_colab_link": true
    },
    "kernelspec": {
      "display_name": "Python 3",
      "language": "python",
      "name": "python3"
    }
  },
  "cells": [
    {
      "cell_type": "markdown",
      "metadata": {
        "id": "view-in-github",
        "colab_type": "text"
      },
      "source": [
        "<a href=\"https://colab.research.google.com/github/alexandrepereiraarq/PytonDataAnalysis/blob/master/PyA_Z_3_23_Section_3_Homework_numPy.ipynb\" target=\"_parent\"><img src=\"https://colab.research.google.com/assets/colab-badge.svg\" alt=\"Open In Colab\"/></a>"
      ]
    },
    {
      "metadata": {
        "id": "vWo4nS6A296-",
        "colab_type": "code",
        "colab": {}
      },
      "cell_type": "code",
      "source": [
        "#original data\n",
        "revenue = [14574.49, 7606.46, 8611.41, 9175.41, 8058.65, 8105.44, 11496.28, 9766.09, 10305.32, 14379.96, 10713.97, 15433.50]\n",
        "expenses = [12051.82, 5695.07, 12319.20, 12089.72, 8658.57, 840.20, 3285.73, 5821.12, 6976.93, 16618.61, 10054.37, 3803.96]"
      ],
      "execution_count": 0,
      "outputs": []
    },
    {
      "metadata": {
        "scrolled": true,
        "id": "fVJNjONC297T",
        "colab_type": "code",
        "colab": {}
      },
      "cell_type": "code",
      "source": [
        "#profit = revenue - expenses"
      ],
      "execution_count": 0,
      "outputs": []
    },
    {
      "metadata": {
        "id": "YeBN4Rs2297d",
        "colab_type": "code",
        "colab": {}
      },
      "cell_type": "code",
      "source": [
        "import numpy as np\n",
        "# converting original data lists into arrays\n",
        "aRevenue = np.array(revenue)\n",
        "aExpenses = np.array(expenses)\n",
        "\n",
        "# creating named month reference for final reporting\n",
        "aMonths = ['January', 'February', 'March', 'April', 'May', 'June', 'July', 'August', 'September', 'October', 'November', 'December']\n",
        "#print(aRevenue)\n",
        "#print(aExpenses)\n",
        "#print(aMonths)"
      ],
      "execution_count": 0,
      "outputs": []
    },
    {
      "metadata": {
        "id": "rg8ZlBbM297k",
        "colab_type": "code",
        "outputId": "33f6e57d-928e-4dba-e9a9-de6e8269f121",
        "colab": {
          "base_uri": "https://localhost:8080/",
          "height": 51
        }
      },
      "cell_type": "code",
      "source": [
        "#using the subtract method from NumPy to calculate << profits >>\n",
        "np.subtract(aRevenue,aExpenses)"
      ],
      "execution_count": 4,
      "outputs": [
        {
          "output_type": "execute_result",
          "data": {
            "text/plain": [
              "array([ 2522.67,  1911.39, -3707.79, -2914.31,  -599.92,  7265.24,\n",
              "        8210.55,  3944.97,  3328.39, -2238.65,   659.6 , 11629.54])"
            ]
          },
          "metadata": {
            "tags": []
          },
          "execution_count": 4
        }
      ]
    },
    {
      "metadata": {
        "id": "apdZ_mdO298B",
        "colab_type": "code",
        "outputId": "9fd4002b-c098-4406-fc4a-405ba4a7ffc5",
        "colab": {
          "base_uri": "https://localhost:8080/",
          "height": 51
        }
      },
      "cell_type": "code",
      "source": [
        "#using the multiply method from NumPy to calculate *<< profit after tax >>\n",
        "profitAfterTax = np.subtract(np.subtract(aRevenue,aExpenses),np.subtract(aRevenue,aExpenses) * 0.3)\n",
        "profitAfterTax"
      ],
      "execution_count": 5,
      "outputs": [
        {
          "output_type": "execute_result",
          "data": {
            "text/plain": [
              "array([ 1765.869,  1337.973, -2595.453, -2040.017,  -419.944,  5085.668,\n",
              "        5747.385,  2761.479,  2329.873, -1567.055,   461.72 ,  8140.678])"
            ]
          },
          "metadata": {
            "tags": []
          },
          "execution_count": 5
        }
      ]
    },
    {
      "metadata": {
        "id": "85eJirdx298P",
        "colab_type": "code",
        "outputId": "7e4eef05-123f-4afe-b0c6-712fbcdd8b9a",
        "colab": {
          "base_uri": "https://localhost:8080/",
          "height": 51
        }
      },
      "cell_type": "code",
      "source": [
        "#using the divide method from NumPy to calculate << profit margin >>\n",
        "profitMargin = (np.divide(profitAfterTax,aRevenue) * 100).round(2)\n",
        "profitMargin"
      ],
      "execution_count": 6,
      "outputs": [
        {
          "output_type": "execute_result",
          "data": {
            "text/plain": [
              "array([ 12.12,  17.59, -30.14, -22.23,  -5.21,  62.74,  49.99,  28.28,\n",
              "        22.61, -10.9 ,   4.31,  52.75])"
            ]
          },
          "metadata": {
            "tags": []
          },
          "execution_count": 6
        }
      ]
    },
    {
      "metadata": {
        "id": "JouLcWqj298f",
        "colab_type": "code",
        "outputId": "dca10d2d-db11-487d-b87e-4dec5d7a1a72",
        "colab": {
          "base_uri": "https://localhost:8080/",
          "height": 34
        }
      },
      "cell_type": "code",
      "source": [
        "#@title Default title text\n",
        "np.max(profitMargin)"
      ],
      "execution_count": 7,
      "outputs": [
        {
          "output_type": "execute_result",
          "data": {
            "text/plain": [
              "62.74"
            ]
          },
          "metadata": {
            "tags": []
          },
          "execution_count": 7
        }
      ]
    },
    {
      "metadata": {
        "id": "cA0xvn854EoP",
        "colab_type": "code",
        "outputId": "c66cf2e4-351d-4488-dc21-5622bbdd7101",
        "colab": {
          "base_uri": "https://localhost:8080/",
          "height": 34
        }
      },
      "cell_type": "code",
      "source": [
        "np.min(profitMargin)"
      ],
      "execution_count": 8,
      "outputs": [
        {
          "output_type": "execute_result",
          "data": {
            "text/plain": [
              "-30.14"
            ]
          },
          "metadata": {
            "tags": []
          },
          "execution_count": 8
        }
      ]
    },
    {
      "metadata": {
        "id": "YMq2XDSR298r",
        "colab_type": "code",
        "outputId": "5d504257-f027-4c76-9ec6-cd9a6f91937d",
        "colab": {
          "base_uri": "https://localhost:8080/",
          "height": 34
        }
      },
      "cell_type": "code",
      "source": [
        "#finding best month\n",
        "\n",
        "nBestMonth, = np.where(profitMargin == np.max(profitMargin))\n",
        "aBestMonth = aMonths[nBestMonth[0]]\n",
        "print(aBestMonth, '(',nBestMonth[0],')')"
      ],
      "execution_count": 9,
      "outputs": [
        {
          "output_type": "stream",
          "text": [
            "June ( 5 )\n"
          ],
          "name": "stdout"
        }
      ]
    },
    {
      "metadata": {
        "id": "wYmQ0I3S4aA2",
        "colab_type": "code",
        "outputId": "5c3bc15d-3e52-4d2f-dfb2-319fb6067552",
        "colab": {
          "base_uri": "https://localhost:8080/",
          "height": 34
        }
      },
      "cell_type": "code",
      "source": [
        "nBestMonth"
      ],
      "execution_count": 10,
      "outputs": [
        {
          "output_type": "execute_result",
          "data": {
            "text/plain": [
              "array([5])"
            ]
          },
          "metadata": {
            "tags": []
          },
          "execution_count": 10
        }
      ]
    },
    {
      "metadata": {
        "id": "KuTJNsWw2982",
        "colab_type": "code",
        "outputId": "24e295fc-b298-4452-e7fa-43228032c93d",
        "colab": {
          "base_uri": "https://localhost:8080/",
          "height": 34
        }
      },
      "cell_type": "code",
      "source": [
        "#finding worst month\n",
        "\n",
        "nWorstMonth, = np.where(profitMargin == np.min(profitMargin))\n",
        "aWorstMonth = aMonths[nWorstMonth[0]]\n",
        "print(aWorstMonth, '(',nWorstMonth[0],')')"
      ],
      "execution_count": 11,
      "outputs": [
        {
          "output_type": "stream",
          "text": [
            "March ( 2 )\n"
          ],
          "name": "stdout"
        }
      ]
    },
    {
      "metadata": {
        "id": "Y5_g1YyS2988",
        "colab_type": "text"
      },
      "cell_type": "markdown",
      "source": [
        "---"
      ]
    },
    {
      "metadata": {
        "id": "jenXAd0a299C",
        "colab_type": "code",
        "colab": {}
      },
      "cell_type": "code",
      "source": [
        "#from now on nothing works..."
      ],
      "execution_count": 0,
      "outputs": []
    },
    {
      "metadata": {
        "id": "yQDPzT0w4hvx",
        "colab_type": "code",
        "outputId": "277ec456-c265-432d-bc82-549f3594eb61",
        "colab": {
          "base_uri": "https://localhost:8080/",
          "height": 34
        }
      },
      "cell_type": "code",
      "source": [
        "xGoodMonths = profitAfterTax[ profitAfterTax > profitAfterTax.mean() ] #xGoodMonths selects the values from aProfitTax which are higher than average\n",
        "xGoodMonths"
      ],
      "execution_count": 13,
      "outputs": [
        {
          "output_type": "execute_result",
          "data": {
            "text/plain": [
              "array([1765.869, 5085.668, 5747.385, 2761.479, 2329.873, 8140.678])"
            ]
          },
          "metadata": {
            "tags": []
          },
          "execution_count": 13
        }
      ]
    },
    {
      "metadata": {
        "id": "4ONJrWnw4u2A",
        "colab_type": "code",
        "outputId": "d26b4ab5-21c2-42c7-d906-729e70d660c2",
        "colab": {
          "base_uri": "https://localhost:8080/",
          "height": 34
        }
      },
      "cell_type": "code",
      "source": [
        "nGoodMonths = np.where(profitAfterTax > profitAfterTax.mean())\n",
        "nGoodMonths[0]"
      ],
      "execution_count": 14,
      "outputs": [
        {
          "output_type": "execute_result",
          "data": {
            "text/plain": [
              "array([ 0,  5,  6,  7,  8, 11])"
            ]
          },
          "metadata": {
            "tags": []
          },
          "execution_count": 14
        }
      ]
    },
    {
      "metadata": {
        "id": "LJCEiHxu5Fr2",
        "colab_type": "code",
        "outputId": "cdbe7b99-da55-4b0b-a2f3-e739aa36ba30",
        "colab": {
          "base_uri": "https://localhost:8080/",
          "height": 34
        }
      },
      "cell_type": "code",
      "source": [
        "# honestly, I can't understand why the line below throws a TypeError: only integer scalar arrays can be converted to a scalar index\n",
        "#aGoodMonths = aMonths[nGoodMonths[0]]\n",
        "#\n",
        "# List comprehensions FTW!\n",
        "aGoodMonths = [aMonths[x] for x in nGoodMonths[0]]\n",
        "aGoodMonths"
      ],
      "execution_count": 15,
      "outputs": [
        {
          "output_type": "execute_result",
          "data": {
            "text/plain": [
              "['January', 'June', 'July', 'August', 'September', 'December']"
            ]
          },
          "metadata": {
            "tags": []
          },
          "execution_count": 15
        }
      ]
    },
    {
      "metadata": {
        "id": "HzDH9j9i7AD8",
        "colab_type": "code",
        "outputId": "f579ef2f-c9dd-4513-e6d4-7cc285a98f33",
        "colab": {
          "base_uri": "https://localhost:8080/",
          "height": 34
        }
      },
      "cell_type": "code",
      "source": [
        "nBadMonths = np.where(profitAfterTax < profitAfterTax.mean())\n",
        "# List comprehensions FTW!\n",
        "aBadMonths = [aMonths[x] for x in nBadMonths[0]]\n",
        "aBadMonths"
      ],
      "execution_count": 17,
      "outputs": [
        {
          "output_type": "execute_result",
          "data": {
            "text/plain": [
              "['February', 'March', 'April', 'May', 'October', 'November']"
            ]
          },
          "metadata": {
            "tags": []
          },
          "execution_count": 17
        }
      ]
    },
    {
      "metadata": {
        "id": "_Rjfkyd7299N",
        "colab_type": "code",
        "outputId": "f7717404-15aa-4319-efac-7437deee362b",
        "colab": {}
      },
      "cell_type": "code",
      "source": [
        "#finding good months\n",
        "xGoodMonths = profitAfterTax[ profitAfterTax > profitAfterTax.mean() ] #xGoodMonths selects the values from aProfitTax which are higher than average\n",
        "print(xGoodMonths)\n",
        "\n",
        "nGoodMonths = np.isin(profitAfterTax, xGoodMonths)\n",
        "print(nGoodMonths)\n",
        "aGoodMonths = aMonths[nGoodMonths]\n",
        "\n",
        "print(aGoodMonths)\n",
        "#for i in range(0, len(xGoodMonths)):\n",
        " #   nGoodMonths.append()"
      ],
      "execution_count": 0,
      "outputs": [
        {
          "output_type": "stream",
          "text": [
            "[1765.869 5085.668 5747.385 2761.479 2329.873 8140.678]\n",
            "[ True False False False False  True  True  True  True False False  True]\n"
          ],
          "name": "stdout"
        },
        {
          "output_type": "error",
          "ename": "TypeError",
          "evalue": "only integer scalar arrays can be converted to a scalar index",
          "traceback": [
            "\u001b[1;31m---------------------------------------------------------------------------\u001b[0m",
            "\u001b[1;31mTypeError\u001b[0m                                 Traceback (most recent call last)",
            "\u001b[1;32m<ipython-input-57-c26c53147e98>\u001b[0m in \u001b[0;36m<module>\u001b[1;34m\u001b[0m\n\u001b[0;32m      5\u001b[0m \u001b[0mnGoodMonths\u001b[0m \u001b[1;33m=\u001b[0m \u001b[0mnp\u001b[0m\u001b[1;33m.\u001b[0m\u001b[0misin\u001b[0m\u001b[1;33m(\u001b[0m\u001b[0mprofitAfterTax\u001b[0m\u001b[1;33m,\u001b[0m \u001b[0mxGoodMonths\u001b[0m\u001b[1;33m)\u001b[0m\u001b[1;33m\u001b[0m\u001b[1;33m\u001b[0m\u001b[0m\n\u001b[0;32m      6\u001b[0m \u001b[0mprint\u001b[0m\u001b[1;33m(\u001b[0m\u001b[0mnGoodMonths\u001b[0m\u001b[1;33m)\u001b[0m\u001b[1;33m\u001b[0m\u001b[1;33m\u001b[0m\u001b[0m\n\u001b[1;32m----> 7\u001b[1;33m \u001b[0maGoodMonths\u001b[0m \u001b[1;33m=\u001b[0m \u001b[0maMonths\u001b[0m\u001b[1;33m[\u001b[0m\u001b[0mnGoodMonths\u001b[0m\u001b[1;33m]\u001b[0m\u001b[1;33m\u001b[0m\u001b[1;33m\u001b[0m\u001b[0m\n\u001b[0m\u001b[0;32m      8\u001b[0m \u001b[1;33m\u001b[0m\u001b[0m\n\u001b[0;32m      9\u001b[0m \u001b[0mprint\u001b[0m\u001b[1;33m(\u001b[0m\u001b[0maGoodMonths\u001b[0m\u001b[1;33m)\u001b[0m\u001b[1;33m\u001b[0m\u001b[1;33m\u001b[0m\u001b[0m\n",
            "\u001b[1;31mTypeError\u001b[0m: only integer scalar arrays can be converted to a scalar index"
          ]
        }
      ]
    },
    {
      "metadata": {
        "id": "TfYoOnn6299X",
        "colab_type": "code",
        "outputId": "76dec36a-5b2c-4bd1-93a3-bfafb1d871b2",
        "colab": {}
      },
      "cell_type": "code",
      "source": [
        "#nGoodMonths selects the index of the values from xGoodMonths\n",
        "nGoodMonths, = np.where(np.isin(profitAfterTax, xGoodMonths))\n",
        "print('NGood Months: ', nGoodMonths)\n",
        "type(nGoodMonths)"
      ],
      "execution_count": 0,
      "outputs": [
        {
          "output_type": "stream",
          "text": [
            "NGood Months:  [ 0  5  6  7  8 11]\n"
          ],
          "name": "stdout"
        },
        {
          "output_type": "execute_result",
          "data": {
            "text/plain": [
              "numpy.ndarray"
            ]
          },
          "metadata": {
            "tags": []
          },
          "execution_count": 53
        }
      ]
    },
    {
      "metadata": {
        "id": "pb4-Xdjw299h",
        "colab_type": "text"
      },
      "cell_type": "markdown",
      "source": [
        "---"
      ]
    },
    {
      "metadata": {
        "id": "mWOWaOyw299j",
        "colab_type": "code",
        "colab": {}
      },
      "cell_type": "code",
      "source": [
        "#reference code from https://stackoverflow.com/questions/3179106/python-select-subset-from-list-based-on-index-set"
      ],
      "execution_count": 0,
      "outputs": []
    },
    {
      "metadata": {
        "id": "zJgRnIpF299p",
        "colab_type": "code",
        "colab": {}
      },
      "cell_type": "code",
      "source": [
        "#Using numpy:\n",
        "property_a = np.array([545., 656., 5.4, 33.])\n",
        "property_b = np.array([ 1.2,  1.3, 2.3, 0.3])\n",
        "good_objects = [False, True, False, True]\n",
        "good_indices = [0, 3]\n",
        "property_asel = property_a[good_objects]\n",
        "property_bsel = property_b[good_indices]"
      ],
      "execution_count": 0,
      "outputs": []
    },
    {
      "metadata": {
        "id": "6L_ljpUT2994",
        "colab_type": "code",
        "outputId": "86391e50-2078-4bf2-bcee-16330ac25f4f",
        "colab": {}
      },
      "cell_type": "code",
      "source": [
        "#my own tests\n",
        "print(property_asel)\n",
        "print(property_bsel)\n",
        "property_bsela = property_b[good_objects]\n",
        "print('using A to select from B', property_bsela)"
      ],
      "execution_count": 0,
      "outputs": [
        {
          "output_type": "stream",
          "text": [
            "[656.  33.]\n",
            "[1.2 0.3]\n",
            "using A to select from B [1.3 0.3]\n"
          ],
          "name": "stdout"
        }
      ]
    },
    {
      "metadata": {
        "id": "QN2WjAu129-F",
        "colab_type": "code",
        "colab": {}
      },
      "cell_type": "code",
      "source": [
        "#Using a list comprehension and zip it:\n",
        "property_a = [545., 656., 5.4, 33.]\n",
        "property_b = [ 1.2,  1.3, 2.3, 0.3]\n",
        "good_objects = [True, False, False, True]\n",
        "good_indices = [0, 3]\n",
        "property_asel = [x for x, y in zip(property_a, good_objects) if y]\n",
        "property_bsel = [property_b[i] for i in good_indices]"
      ],
      "execution_count": 0,
      "outputs": []
    },
    {
      "metadata": {
        "id": "39wnx2kp29-d",
        "colab_type": "text"
      },
      "cell_type": "markdown",
      "source": [
        "---"
      ]
    },
    {
      "metadata": {
        "id": "fvhqsFoE29-g",
        "colab_type": "code",
        "colab": {}
      },
      "cell_type": "code",
      "source": [
        "#old code"
      ],
      "execution_count": 0,
      "outputs": []
    },
    {
      "metadata": {
        "id": "MK8dPSSa29-t",
        "colab_type": "code",
        "outputId": "4c5fdf59-4d7b-4610-c866-dfd1a0f1a757",
        "colab": {}
      },
      "cell_type": "code",
      "source": [
        "#finding good months\n",
        "xGoodMonths = aProfitTax[ aProfitTax > aProfitMean ] #xGoodMonths selects the values from aProfitTax which are higher than average\n",
        "#print(nGoodMonths)\n",
        "#nGoodMonths = np.array[]\n",
        "nGoodMonths, = np.where(np.isin(aProfitTax, xGoodMonths)) #nGoodMonths selects the index of the values from xGoodMonths\n",
        "print('NGood Months: ', nGoodMonths)\n",
        "type(nGoodMonths)"
      ],
      "execution_count": 0,
      "outputs": [
        {
          "output_type": "error",
          "ename": "NameError",
          "evalue": "name 'aProfitTax' is not defined",
          "traceback": [
            "\u001b[1;31m---------------------------------------------------------------------------\u001b[0m",
            "\u001b[1;31mNameError\u001b[0m                                 Traceback (most recent call last)",
            "\u001b[1;32m<ipython-input-35-a466fe3d2c4b>\u001b[0m in \u001b[0;36m<module>\u001b[1;34m\u001b[0m\n\u001b[0;32m      1\u001b[0m \u001b[1;31m#finding good months\u001b[0m\u001b[1;33m\u001b[0m\u001b[1;33m\u001b[0m\u001b[1;33m\u001b[0m\u001b[0m\n\u001b[1;32m----> 2\u001b[1;33m \u001b[0mxGoodMonths\u001b[0m \u001b[1;33m=\u001b[0m \u001b[0maProfitTax\u001b[0m\u001b[1;33m[\u001b[0m \u001b[0maProfitTax\u001b[0m \u001b[1;33m>\u001b[0m \u001b[0maProfitMean\u001b[0m \u001b[1;33m]\u001b[0m \u001b[1;31m#xGoodMonths selects the values from aProfitTax which are higher than average\u001b[0m\u001b[1;33m\u001b[0m\u001b[1;33m\u001b[0m\u001b[0m\n\u001b[0m\u001b[0;32m      3\u001b[0m \u001b[1;31m#print(nGoodMonths)\u001b[0m\u001b[1;33m\u001b[0m\u001b[1;33m\u001b[0m\u001b[1;33m\u001b[0m\u001b[0m\n\u001b[0;32m      4\u001b[0m \u001b[1;31m#nGoodMonths = np.array[]\u001b[0m\u001b[1;33m\u001b[0m\u001b[1;33m\u001b[0m\u001b[1;33m\u001b[0m\u001b[0m\n\u001b[0;32m      5\u001b[0m \u001b[0mnGoodMonths\u001b[0m\u001b[1;33m,\u001b[0m \u001b[1;33m=\u001b[0m \u001b[0mnp\u001b[0m\u001b[1;33m.\u001b[0m\u001b[0mwhere\u001b[0m\u001b[1;33m(\u001b[0m\u001b[0mnp\u001b[0m\u001b[1;33m.\u001b[0m\u001b[0misin\u001b[0m\u001b[1;33m(\u001b[0m\u001b[0maProfitTax\u001b[0m\u001b[1;33m,\u001b[0m \u001b[0mxGoodMonths\u001b[0m\u001b[1;33m)\u001b[0m\u001b[1;33m)\u001b[0m \u001b[1;31m#nGoodMonths selects the index of the values from xGoodMonths\u001b[0m\u001b[1;33m\u001b[0m\u001b[1;33m\u001b[0m\u001b[0m\n",
            "\u001b[1;31mNameError\u001b[0m: name 'aProfitTax' is not defined"
          ]
        }
      ]
    },
    {
      "metadata": {
        "id": "tLosmcy_29-5",
        "colab_type": "code",
        "colab": {}
      },
      "cell_type": "code",
      "source": [
        ""
      ],
      "execution_count": 0,
      "outputs": []
    },
    {
      "metadata": {
        "id": "vABiMYME29-_",
        "colab_type": "code",
        "outputId": "baa22831-2303-4a00-f72c-ffa324bfaa0e",
        "colab": {}
      },
      "cell_type": "code",
      "source": [
        "aGoodMonths = aMonths[nGoodMonths]\n",
        "#print(np.where(aGoodMonths))\n",
        "print('aGoodMonths', aGoodMonths) #ainda acha só o primeiro..."
      ],
      "execution_count": 0,
      "outputs": [
        {
          "output_type": "error",
          "ename": "TypeError",
          "evalue": "only integer scalar arrays can be converted to a scalar index",
          "traceback": [
            "\u001b[1;31m---------------------------------------------------------------------------\u001b[0m",
            "\u001b[1;31mTypeError\u001b[0m                                 Traceback (most recent call last)",
            "\u001b[1;32m<ipython-input-54-25becfa59ca4>\u001b[0m in \u001b[0;36m<module>\u001b[1;34m\u001b[0m\n\u001b[1;32m----> 1\u001b[1;33m \u001b[0maGoodMonths\u001b[0m \u001b[1;33m=\u001b[0m \u001b[0maMonths\u001b[0m\u001b[1;33m[\u001b[0m\u001b[0mnGoodMonths\u001b[0m\u001b[1;33m]\u001b[0m\u001b[1;33m\u001b[0m\u001b[1;33m\u001b[0m\u001b[0m\n\u001b[0m\u001b[0;32m      2\u001b[0m \u001b[1;31m#print(np.where(aGoodMonths))\u001b[0m\u001b[1;33m\u001b[0m\u001b[1;33m\u001b[0m\u001b[1;33m\u001b[0m\u001b[0m\n\u001b[0;32m      3\u001b[0m \u001b[0mprint\u001b[0m\u001b[1;33m(\u001b[0m\u001b[1;34m'aGoodMonths'\u001b[0m\u001b[1;33m,\u001b[0m \u001b[0maGoodMonths\u001b[0m\u001b[1;33m)\u001b[0m \u001b[1;31m#ainda acha só o primeiro...\u001b[0m\u001b[1;33m\u001b[0m\u001b[1;33m\u001b[0m\u001b[0m\n",
            "\u001b[1;31mTypeError\u001b[0m: only integer scalar arrays can be converted to a scalar index"
          ]
        }
      ]
    },
    {
      "metadata": {
        "id": "3ilXjC_L29_L",
        "colab_type": "code",
        "outputId": "6d97c3eb-48d3-4a94-90cc-d3746404bb45",
        "colab": {}
      },
      "cell_type": "code",
      "source": [
        "#finding bad months\n",
        "nBadMonths = aProfitTax[ aProfitTax < aProfitMean ]\n",
        "print(nBadMonths)"
      ],
      "execution_count": 0,
      "outputs": [
        {
          "output_type": "stream",
          "text": [
            "[ 1337.973 -2595.453 -2040.017  -419.944 -1567.055   461.72 ]\n"
          ],
          "name": "stdout"
        }
      ]
    },
    {
      "metadata": {
        "id": "sr5UT7of29_V",
        "colab_type": "code",
        "outputId": "b044b6b3-c1e1-4e2b-c3a8-3a5c04fc37a7",
        "colab": {}
      },
      "cell_type": "code",
      "source": [
        "#finding best month\n",
        "\n",
        "nBestMonth, = np.where(aProfitMargin == aProfitMargin.max())\n",
        "print(nBestMonth[0])\n",
        "aBestMonth = aMonths[nBestMonth[0]]\n",
        "print(aBestMonth)"
      ],
      "execution_count": 0,
      "outputs": [
        {
          "output_type": "stream",
          "text": [
            "5\n",
            "June\n"
          ],
          "name": "stdout"
        }
      ]
    },
    {
      "metadata": {
        "id": "V5ZqhaNP29_e",
        "colab_type": "code",
        "outputId": "ba743a65-4fe8-4b3d-8606-3b0f26b5d166",
        "colab": {}
      },
      "cell_type": "code",
      "source": [
        "#finding worst month\n",
        "nWorstMonth, = np.where(aProfitMargin == aProfitMargin.min())\n",
        "print(nWorstMonth[0])\n",
        "aWorstMonth = aMonths[nWorstMonth[0]]\n",
        "print(aWorstMonth)"
      ],
      "execution_count": 0,
      "outputs": [
        {
          "output_type": "stream",
          "text": [
            "2\n",
            "March\n"
          ],
          "name": "stdout"
        }
      ]
    },
    {
      "metadata": {
        "id": "8r8TJ2AU29_t",
        "colab_type": "code",
        "colab": {}
      },
      "cell_type": "code",
      "source": [
        ""
      ],
      "execution_count": 0,
      "outputs": []
    }
  ]
}