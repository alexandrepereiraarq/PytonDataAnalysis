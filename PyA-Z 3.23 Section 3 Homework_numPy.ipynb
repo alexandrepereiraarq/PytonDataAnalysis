{
 "cells": [
  {
   "cell_type": "code",
   "execution_count": 2,
   "metadata": {},
   "outputs": [],
   "source": [
    "#original data\n",
    "revenue = [14574.49, 7606.46, 8611.41, 9175.41, 8058.65, 8105.44, 11496.28, 9766.09, 10305.32, 14379.96, 10713.97, 15433.50]\n",
    "expenses = [12051.82, 5695.07, 12319.20, 12089.72, 8658.57, 840.20, 3285.73, 5821.12, 6976.93, 16618.61, 10054.37, 3803.96]"
   ]
  },
  {
   "cell_type": "code",
   "execution_count": 3,
   "metadata": {
    "scrolled": true
   },
   "outputs": [],
   "source": [
    "#profit = revenue - expenses"
   ]
  },
  {
   "cell_type": "code",
   "execution_count": 23,
   "metadata": {},
   "outputs": [],
   "source": [
    "import numpy as np\n",
    "# converting original data lists into arrays\n",
    "aRevenue = np.array(revenue)\n",
    "aExpenses = np.array(expenses)\n",
    "\n",
    "# creating named month reference for final reporting\n",
    "aMonths = ['January', 'February', 'March', 'April', 'May', 'June', 'July', 'August', 'September', 'October', 'November', 'December']\n",
    "#print(aRevenue)\n",
    "#print(aExpenses)\n",
    "#print(aMonths)"
   ]
  },
  {
   "cell_type": "code",
   "execution_count": 24,
   "metadata": {},
   "outputs": [
    {
     "data": {
      "text/plain": [
       "array([ 2522.67,  1911.39, -3707.79, -2914.31,  -599.92,  7265.24,\n",
       "        8210.55,  3944.97,  3328.39, -2238.65,   659.6 , 11629.54])"
      ]
     },
     "execution_count": 24,
     "metadata": {},
     "output_type": "execute_result"
    }
   ],
   "source": [
    "#using the subtract method from NumPy to calculate << profits >>\n",
    "np.subtract(aRevenue,aExpenses)"
   ]
  },
  {
   "cell_type": "code",
   "execution_count": 25,
   "metadata": {},
   "outputs": [
    {
     "data": {
      "text/plain": [
       "array([ 1765.869,  1337.973, -2595.453, -2040.017,  -419.944,  5085.668,\n",
       "        5747.385,  2761.479,  2329.873, -1567.055,   461.72 ,  8140.678])"
      ]
     },
     "execution_count": 25,
     "metadata": {},
     "output_type": "execute_result"
    }
   ],
   "source": [
    "#using the multiply method from NumPy to calculate *<< profit after tax >>\n",
    "profitAfterTax = np.subtract(np.subtract(aRevenue,aExpenses),np.subtract(aRevenue,aExpenses) * 0.3)\n",
    "profitAfterTax"
   ]
  },
  {
   "cell_type": "code",
   "execution_count": 45,
   "metadata": {},
   "outputs": [
    {
     "data": {
      "text/plain": [
       "array([ 12.12,  17.59, -30.14, -22.23,  -5.21,  62.74,  49.99,  28.28,\n",
       "        22.61, -10.9 ,   4.31,  52.75])"
      ]
     },
     "execution_count": 45,
     "metadata": {},
     "output_type": "execute_result"
    }
   ],
   "source": [
    "#using the divide method from NumPy to calculate << profit margin >>\n",
    "profitMargin = (np.divide(profitAfterTax,aRevenue) * 100).round(2)\n",
    "profitMargin"
   ]
  },
  {
   "cell_type": "code",
   "execution_count": 50,
   "metadata": {},
   "outputs": [
    {
     "data": {
      "text/plain": [
       "-30.14"
      ]
     },
     "execution_count": 50,
     "metadata": {},
     "output_type": "execute_result"
    }
   ],
   "source": [
    "np.max(profitMargin)\n",
    "np.min(profitMargin)"
   ]
  },
  {
   "cell_type": "code",
   "execution_count": 49,
   "metadata": {},
   "outputs": [
    {
     "name": "stdout",
     "output_type": "stream",
     "text": [
      "June ( 5 )\n"
     ]
    }
   ],
   "source": [
    "#finding best month\n",
    "\n",
    "nBestMonth, = np.where(profitMargin == np.max(profitMargin))\n",
    "aBestMonth = aMonths[nBestMonth[0]]\n",
    "print(aBestMonth, '(',nBestMonth[0],')')"
   ]
  },
  {
   "cell_type": "code",
   "execution_count": 52,
   "metadata": {},
   "outputs": [
    {
     "name": "stdout",
     "output_type": "stream",
     "text": [
      "March ( 2 )\n"
     ]
    }
   ],
   "source": [
    "#finding worst month\n",
    "\n",
    "nWorstMonth, = np.where(profitMargin == np.min(profitMargin))\n",
    "aWorstMonth = aMonths[nWorstMonth[0]]\n",
    "print(aWorstMonth, '(',nWorstMonth[0],')')"
   ]
  },
  {
   "cell_type": "code",
   "execution_count": null,
   "metadata": {},
   "outputs": [],
   "source": []
  },
  {
   "cell_type": "code",
   "execution_count": 5,
   "metadata": {},
   "outputs": [
    {
     "name": "stdout",
     "output_type": "stream",
     "text": [
      "Profit:  [ 2522.67  1911.39 -3707.79 -2914.31  -599.92  7265.24  8210.55  3944.97\n",
      "  3328.39 -2238.65   659.6  11629.54]\n",
      "Profit after tax:  [ 1765.869  1337.973 -2595.453 -2040.017  -419.944  5085.668  5747.385\n",
      "  2761.479  2329.873 -1567.055   461.72   8140.678]\n",
      "Profit Margin Rounded:  [ 12.12  17.59 -30.14 -22.23  -5.21  62.74  49.99  28.28  22.61 -10.9\n",
      "   4.31  52.75]\n",
      "Profit Mean:  1750.68\n"
     ]
    }
   ],
   "source": [
    "#calculating profits and profits after tax\n",
    "\n",
    "aProfit = aRevenue - aExpenses\n",
    "aTax = aProfit * 0.3\n",
    "aProfitTax = aProfit - aTax\n",
    "print('Profit: ', aProfit)\n",
    "print('Profit after tax: ', aProfitTax) #what to do with negative profit values? do taxes apply before calculating profits?\n",
    "aProfitMargin = ( ( aProfitTax / aRevenue ) * 100 ).round(2) #we can apply the round() method after calculating the values for the array!\n",
    " \n",
    "print('Profit Margin Rounded: ', aProfitMargin)\n",
    "aProfitMean = aProfitTax.mean().round(2)\n",
    "print('Profit Mean: ', aProfitMean)"
   ]
  },
  {
   "cell_type": "code",
   "execution_count": 53,
   "metadata": {},
   "outputs": [
    {
     "name": "stdout",
     "output_type": "stream",
     "text": [
      "NGood Months:  [ 0  5  6  7  8 11]\n"
     ]
    },
    {
     "data": {
      "text/plain": [
       "numpy.ndarray"
      ]
     },
     "execution_count": 53,
     "metadata": {},
     "output_type": "execute_result"
    }
   ],
   "source": [
    "#finding good months\n",
    "xGoodMonths = aProfitTax[ aProfitTax > aProfitMean ] #xGoodMonths selects the values from aProfitTax which are higher than average\n",
    "#print(nGoodMonths)\n",
    "#nGoodMonths = np.array[]\n",
    "nGoodMonths, = np.where(np.isin(aProfitTax, xGoodMonths)) #nGoodMonths selects the index of the values from xGoodMonths\n",
    "print('NGood Months: ', nGoodMonths)\n",
    "type(nGoodMonths)"
   ]
  },
  {
   "cell_type": "code",
   "execution_count": 54,
   "metadata": {},
   "outputs": [
    {
     "ename": "TypeError",
     "evalue": "only integer scalar arrays can be converted to a scalar index",
     "output_type": "error",
     "traceback": [
      "\u001b[1;31m---------------------------------------------------------------------------\u001b[0m",
      "\u001b[1;31mTypeError\u001b[0m                                 Traceback (most recent call last)",
      "\u001b[1;32m<ipython-input-54-25becfa59ca4>\u001b[0m in \u001b[0;36m<module>\u001b[1;34m\u001b[0m\n\u001b[1;32m----> 1\u001b[1;33m \u001b[0maGoodMonths\u001b[0m \u001b[1;33m=\u001b[0m \u001b[0maMonths\u001b[0m\u001b[1;33m[\u001b[0m\u001b[0mnGoodMonths\u001b[0m\u001b[1;33m]\u001b[0m\u001b[1;33m\u001b[0m\u001b[1;33m\u001b[0m\u001b[0m\n\u001b[0m\u001b[0;32m      2\u001b[0m \u001b[1;31m#print(np.where(aGoodMonths))\u001b[0m\u001b[1;33m\u001b[0m\u001b[1;33m\u001b[0m\u001b[1;33m\u001b[0m\u001b[0m\n\u001b[0;32m      3\u001b[0m \u001b[0mprint\u001b[0m\u001b[1;33m(\u001b[0m\u001b[1;34m'aGoodMonths'\u001b[0m\u001b[1;33m,\u001b[0m \u001b[0maGoodMonths\u001b[0m\u001b[1;33m)\u001b[0m \u001b[1;31m#ainda acha só o primeiro...\u001b[0m\u001b[1;33m\u001b[0m\u001b[1;33m\u001b[0m\u001b[0m\n",
      "\u001b[1;31mTypeError\u001b[0m: only integer scalar arrays can be converted to a scalar index"
     ]
    }
   ],
   "source": [
    "aGoodMonths = aMonths[nGoodMonths]\n",
    "#print(np.where(aGoodMonths))\n",
    "print('aGoodMonths', aGoodMonths) #ainda acha só o primeiro..."
   ]
  },
  {
   "cell_type": "code",
   "execution_count": 82,
   "metadata": {},
   "outputs": [
    {
     "name": "stdout",
     "output_type": "stream",
     "text": [
      "[ 1337.973 -2595.453 -2040.017  -419.944 -1567.055   461.72 ]\n"
     ]
    }
   ],
   "source": [
    "#finding bad months\n",
    "nBadMonths = aProfitTax[ aProfitTax < aProfitMean ]\n",
    "print(nBadMonths)"
   ]
  },
  {
   "cell_type": "code",
   "execution_count": 42,
   "metadata": {},
   "outputs": [
    {
     "name": "stdout",
     "output_type": "stream",
     "text": [
      "5\n",
      "June\n"
     ]
    }
   ],
   "source": [
    "#finding best month\n",
    "\n",
    "nBestMonth, = np.where(aProfitMargin == aProfitMargin.max())\n",
    "print(nBestMonth[0])\n",
    "aBestMonth = aMonths[nBestMonth[0]]\n",
    "print(aBestMonth)"
   ]
  },
  {
   "cell_type": "code",
   "execution_count": 43,
   "metadata": {},
   "outputs": [
    {
     "name": "stdout",
     "output_type": "stream",
     "text": [
      "2\n",
      "March\n"
     ]
    }
   ],
   "source": [
    "#finding worst month\n",
    "nWorstMonth, = np.where(aProfitMargin == aProfitMargin.min())\n",
    "print(nWorstMonth[0])\n",
    "aWorstMonth = aMonths[nWorstMonth[0]]\n",
    "print(aWorstMonth)"
   ]
  },
  {
   "cell_type": "code",
   "execution_count": null,
   "metadata": {},
   "outputs": [],
   "source": []
  }
 ],
 "metadata": {
  "kernelspec": {
   "display_name": "Python 3",
   "language": "python",
   "name": "python3"
  },
  "language_info": {
   "codemirror_mode": {
    "name": "ipython",
    "version": 3
   },
   "file_extension": ".py",
   "mimetype": "text/x-python",
   "name": "python",
   "nbconvert_exporter": "python",
   "pygments_lexer": "ipython3",
   "version": "3.7.1"
  }
 },
 "nbformat": 4,
 "nbformat_minor": 2
}
